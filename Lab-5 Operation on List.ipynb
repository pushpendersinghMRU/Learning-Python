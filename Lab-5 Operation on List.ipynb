{
 "cells": [
  {
   "cell_type": "markdown",
   "metadata": {},
   "source": [
    "### Lab - 05"
   ]
  },
  {
   "cell_type": "markdown",
   "metadata": {},
   "source": [
    "Q1. Write a Python program to sum all the items in a list. "
   ]
  },
  {
   "cell_type": "code",
   "execution_count": 2,
   "metadata": {},
   "outputs": [
    {
     "name": "stdout",
     "output_type": "stream",
     "text": [
      "Sum of the elements of the list is :  166\n"
     ]
    }
   ],
   "source": [
    "l=[12,34,54,23,43]\n",
    "s=0\n",
    "for i in l:\n",
    "    s=s+i\n",
    "print(\"Sum of the elements of the list is : \",s)"
   ]
  },
  {
   "cell_type": "markdown",
   "metadata": {},
   "source": [
    "Q2. Write a Python program to multiplies all the items in a list.  "
   ]
  },
  {
   "cell_type": "code",
   "execution_count": 6,
   "metadata": {},
   "outputs": [
    {
     "name": "stdout",
     "output_type": "stream",
     "text": [
      "240\n"
     ]
    }
   ],
   "source": [
    "a=[2,3,4,5,2,1]\n",
    "m=1\n",
    "for i in a:\n",
    "   m=m*i \n",
    "print(m)"
   ]
  },
  {
   "cell_type": "markdown",
   "metadata": {},
   "source": [
    "Q3. Write a Python program to get the largest number from a list."
   ]
  },
  {
   "cell_type": "code",
   "execution_count": 14,
   "metadata": {},
   "outputs": [
    {
     "name": "stdout",
     "output_type": "stream",
     "text": [
      "Largest number is :  452\n"
     ]
    }
   ],
   "source": [
    "l=[12,13,43,452,12,33]\n",
    "a=l[0]\n",
    "for i in l:\n",
    "    if i>a:\n",
    "        a=i\n",
    "print(\"Largest number is : \",a)"
   ]
  },
  {
   "cell_type": "markdown",
   "metadata": {},
   "source": [
    "Q4. Write a Python program to get the smallest number from a list."
   ]
  },
  {
   "cell_type": "code",
   "execution_count": 10,
   "metadata": {},
   "outputs": [
    {
     "name": "stdout",
     "output_type": "stream",
     "text": [
      "Smallest number is :  12\n"
     ]
    }
   ],
   "source": [
    "l=[15,13,43,452,12,33]\n",
    "a=l[0]\n",
    "for i in l:\n",
    "    if i<a:\n",
    "        a=i\n",
    "print(\"Smallest number is : \",a)"
   ]
  },
  {
   "cell_type": "markdown",
   "metadata": {},
   "source": [
    "Q5. Write a Python program to count the number of strings where the string length is 2 or more and the first and last character are same from a given list of strings \n",
    "Sample List : ['abc', 'xyz', 'aba', '1221']. Expected Result : 2\n"
   ]
  },
  {
   "cell_type": "code",
   "execution_count": 17,
   "metadata": {},
   "outputs": [
    {
     "name": "stdout",
     "output_type": "stream",
     "text": [
      "Such strings are :  2\n"
     ]
    }
   ],
   "source": [
    "l=['abc', 'xyz', 'aba', '1221']\n",
    "count=0\n",
    "for i in l:\n",
    "    if len(i)>=2:\n",
    "       if i[0]==i[len(i)-1]:\n",
    "        count=count+1\n",
    "    else:\n",
    "        pass\n",
    "print(\"Such strings are : \",count)"
   ]
  },
  {
   "cell_type": "markdown",
   "metadata": {},
   "source": [
    "Q6. Write a Python program to get a list, sorted in increasing order by the last element in each tuple from a given list of non-empty tuples.  \n",
    "Sample List : [(2, 5), (1, 2), (4, 4), (2, 3), (2, 1)]\n",
    "Expected Result : [(2, 1), (1, 2), (2, 3), (4, 4), (2, 5)]\n"
   ]
  },
  {
   "cell_type": "code",
   "execution_count": 61,
   "metadata": {},
   "outputs": [
    {
     "name": "stdout",
     "output_type": "stream",
     "text": [
      "[342, 124, 123, 54]\n"
     ]
    }
   ],
   "source": [
    "t=(123,342,124,54)\n",
    "l=list(t)\n",
    "(l.sort(reverse=True))\n",
    "print(l)"
   ]
  },
  {
   "cell_type": "markdown",
   "metadata": {},
   "source": [
    "Q7. Write a Python program to remove duplicates from a list. "
   ]
  },
  {
   "cell_type": "code",
   "execution_count": 18,
   "metadata": {},
   "outputs": [
    {
     "name": "stdout",
     "output_type": "stream",
     "text": [
      "List with original items is :  [12, 23, 234, 54, 453]\n"
     ]
    }
   ],
   "source": [
    "l=[12,23,234,54,23,12,23,12,453,453]\n",
    "n=[]\n",
    "for i in l:\n",
    "    if i not in n:\n",
    "        n.append(i)\n",
    "print(\"List with original items is : \",n)"
   ]
  },
  {
   "cell_type": "markdown",
   "metadata": {},
   "source": [
    "Q8. Write a Python program to check a list is empty or not. "
   ]
  },
  {
   "cell_type": "code",
   "execution_count": 20,
   "metadata": {},
   "outputs": [
    {
     "name": "stdout",
     "output_type": "stream",
     "text": [
      "List is empty.\n"
     ]
    }
   ],
   "source": [
    "l=[]\n",
    "if len(l)==0:\n",
    "    print(\"List is empty.\")\n",
    "else:\n",
    "    print(\"List is not empty\")"
   ]
  },
  {
   "cell_type": "markdown",
   "metadata": {},
   "source": [
    "Q9. Write a Python program to clone or copy a list."
   ]
  },
  {
   "cell_type": "code",
   "execution_count": 23,
   "metadata": {},
   "outputs": [
    {
     "name": "stdout",
     "output_type": "stream",
     "text": [
      "Clone of the given list is :  [12, 34, 45, 32, 23]\n"
     ]
    }
   ],
   "source": [
    "l=[12,34,45,32,23]\n",
    "c=l[:]\n",
    "print(\"Clone of the given list is : \",c)"
   ]
  },
  {
   "cell_type": "markdown",
   "metadata": {},
   "source": [
    "Q10. Write a Python program to find the list of words that are longer than n from a given list of words.  "
   ]
  },
  {
   "cell_type": "code",
   "execution_count": 25,
   "metadata": {},
   "outputs": [
    {
     "name": "stdout",
     "output_type": "stream",
     "text": [
      "Enter a number:2\n",
      "New list is :  ['qwerre', 'fdsafb', 'qewfhuh', 'bhwj']\n"
     ]
    }
   ],
   "source": [
    "n=int(input(\"Enter a number:\"))\n",
    "l=[\"qwerre\",'fdsafb','qewfhuh','bhwj','iu']\n",
    "c=[]\n",
    "for i in l:\n",
    "    if len(i)>n:\n",
    "        c.append(i)\n",
    "print(\"New list is : \",c)"
   ]
  },
  {
   "cell_type": "markdown",
   "metadata": {},
   "source": [
    "Q11. Write a Python function that takes two lists and returns True if they have at least one common member. "
   ]
  },
  {
   "cell_type": "code",
   "execution_count": 24,
   "metadata": {},
   "outputs": [
    {
     "name": "stdout",
     "output_type": "stream",
     "text": [
      "False\n"
     ]
    }
   ],
   "source": [
    "def ls(l1,l2):\n",
    "    r=False\n",
    "    for i in l1:\n",
    "        for j in l2:\n",
    "            if i==j:\n",
    "                r=True\n",
    "                return r\n",
    "    return r\n",
    "l1=[15,32,245,54,23]\n",
    "l2=[234,4,12,12,72]\n",
    "print(ls(l1,l2))"
   ]
  },
  {
   "cell_type": "markdown",
   "metadata": {},
   "source": [
    "Q12. Write a Python program to print a specified list after removing the 0th, 4th and 5th elements.  \n",
    "Sample List : ['Red', 'Green', 'White', 'Black', 'Pink', 'Yellow']\n",
    "Expected Output : ['Green', 'White', 'Black']\n"
   ]
  },
  {
   "cell_type": "code",
   "execution_count": 9,
   "metadata": {},
   "outputs": [
    {
     "name": "stdout",
     "output_type": "stream",
     "text": [
      "List after removing elements is :  ['Green', 'White', 'Black']\n"
     ]
    }
   ],
   "source": [
    "l=['Red','Green','White','Black','Pink','Yellow']\n",
    "l.pop(5)\n",
    "l.pop(4)\n",
    "l.pop(0)\n",
    "print(\"List after removing elements is : \",l)"
   ]
  }
 ],
 "metadata": {
  "kernelspec": {
   "display_name": "Python 3",
   "language": "python",
   "name": "python3"
  },
  "language_info": {
   "codemirror_mode": {
    "name": "ipython",
    "version": 3
   },
   "file_extension": ".py",
   "mimetype": "text/x-python",
   "name": "python",
   "nbconvert_exporter": "python",
   "pygments_lexer": "ipython3",
   "version": "3.8.5"
  }
 },
 "nbformat": 4,
 "nbformat_minor": 4
}
