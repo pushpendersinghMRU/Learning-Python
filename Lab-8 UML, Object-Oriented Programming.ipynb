{
 "cells": [
  {
   "cell_type": "markdown",
   "id": "1243bb23",
   "metadata": {},
   "source": [
    "# Lab-8: UML, Object-Oriented Programming"
   ]
  },
  {
   "cell_type": "markdown",
   "id": "a3b15c44",
   "metadata": {},
   "source": [
    "### Q1. Write a Python program that create a class tringle and define two methods, create_triangle() and print_sides()."
   ]
  },
  {
   "cell_type": "code",
   "execution_count": 14,
   "id": "10930e7e",
   "metadata": {},
   "outputs": [
    {
     "name": "stdout",
     "output_type": "stream",
     "text": [
      "10\n",
      "20\n",
      "30\n"
     ]
    }
   ],
   "source": [
    "class Triangle:\n",
    "    a=0\n",
    "    b=0\n",
    "    c=0\n",
    "    def create_triangle(self, side1, side2, side3):\n",
    "        self.a=side1\n",
    "        self.b=side2\n",
    "        self.c=side3\n",
    "                \n",
    "    def print_sides(self):\n",
    "        print (self.a)\n",
    "        print(self.b)\n",
    "        print(self.c)\n",
    "        \n",
    "ob1=Triangle()\n",
    "ob1.create_triangle(10,20,30)\n",
    "ob1.print_sides()"
   ]
  },
  {
   "cell_type": "markdown",
   "id": "8d6c2614",
   "metadata": {},
   "source": [
    "### Q2. Write a Python program to create a class with two methods get_String() and print_String()."
   ]
  },
  {
   "cell_type": "code",
   "execution_count": null,
   "id": "fab4aa46",
   "metadata": {},
   "outputs": [],
   "source": [
    "class Student():\n",
    "    def intro(self):\n",
    "        self.str1 = \"\"\n",
    "\n",
    "    def get_String(self):\n",
    "        self.str1 = input(\"Enter a string: \")\n",
    "\n",
    "    def print_String(self):\n",
    "        print(self.str1.upper())\n",
    "\n",
    "str1 = Student()\n",
    "str1.get_String()\n",
    "str1.print_String()"
   ]
  },
  {
   "cell_type": "markdown",
   "id": "206a5fe8",
   "metadata": {},
   "source": [
    "### Q. Write a Python program that create a class triangle and define two methods, create_triangle() and print_sides()."
   ]
  },
  {
   "cell_type": "code",
   "execution_count": null,
   "id": "37a5855a",
   "metadata": {},
   "outputs": [],
   "source": [
    "class Triangle:\n",
    "    a=0\n",
    "    b=0\n",
    "    c=0\n",
    "    def create_triangle(self, side1, side2, side3):\n",
    "        self.a=side1\n",
    "        self.b=side2\n",
    "        self.c=side3\n",
    "                \n",
    "    def print_sides(self):\n",
    "        print (self.a)\n",
    "        print(self.b)\n",
    "        print(self.c)\n",
    "        \n",
    "ob1=Triangle()\n",
    "ob1.create_triangle(10,20,30)\n",
    "ob1.print_sides()"
   ]
  },
  {
   "cell_type": "markdown",
   "id": "56a0f039",
   "metadata": {},
   "source": [
    "### Q.Create a class Rectangle and print the perimeter of the same"
   ]
  },
  {
   "cell_type": "code",
   "execution_count": null,
   "id": "55e7072c",
   "metadata": {},
   "outputs": [],
   "source": [
    "class Rectangle:\n",
    "    length=0.0\n",
    "    width=0.0\n",
    "    per=0.0\n",
    "    def rect_values(self, l, w):\n",
    "        self.length=l\n",
    "        self.width=w\n",
    "    def perimeter(self):\n",
    "    \n",
    "        self.per=2*self.length*self.width\n",
    "        return(self.per)\n",
    "    \n",
    "r1= Rectangle()\n",
    "r1.rect_values(10,20)\n",
    "k=r1.perimeter()\n",
    "print(\"the perimeter of rectangle is\",k)"
   ]
  },
  {
   "cell_type": "code",
   "execution_count": null,
   "id": "f6676646",
   "metadata": {},
   "outputs": [],
   "source": [
    "class Circle:\n",
    "    rad=0.0\n",
    "    def __init__ (self,r): \n",
    "        self.rad=r\n",
    "    def __init__(self):\n",
    "        self.rad=10.0\n",
    "        \n",
    "    def area(self):\n",
    "        return(3.14*self.rad*self.rad)\n",
    "    def perimeter(self):\n",
    "        return(2*3.14*self.rad)\n",
    "ob1= Circle(1.5)\n",
    "print(\"the area of circle is\" ,ob1.area())\n",
    "print(\"the perimeter of circle is \",ob1.perimeter())"
   ]
  }
 ],
 "metadata": {
  "kernelspec": {
   "display_name": "Python 3",
   "language": "python",
   "name": "python3"
  },
  "language_info": {
   "codemirror_mode": {
    "name": "ipython",
    "version": 3
   },
   "file_extension": ".py",
   "mimetype": "text/x-python",
   "name": "python",
   "nbconvert_exporter": "python",
   "pygments_lexer": "ipython3",
   "version": "3.8.8"
  }
 },
 "nbformat": 4,
 "nbformat_minor": 5
}
