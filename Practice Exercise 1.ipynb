{
 "cells": [
  {
   "cell_type": "markdown",
   "metadata": {},
   "source": [
    "# Practice Exercise 1"
   ]
  },
  {
   "cell_type": "markdown",
   "metadata": {},
   "source": [
    "### Q1. What is Python?\n",
    "### Ans. Python is a programming language for web development, software development, scripting and mathematical operations"
   ]
  },
  {
   "cell_type": "markdown",
   "metadata": {},
   "source": [
    "### Q2. Give any 5 areas where python can be used.\n",
    "### 1.Data Science \n",
    "### 2.Artificial intelligence\n",
    "### 3.Machine Learning\n",
    "### 4.Medicine and pharmacology\n",
    "### 5.Game development"
   ]
  },
  {
   "cell_type": "markdown",
   "metadata": {},
   "source": [
    "### Q3. Write a program to check if 10>2 or not"
   ]
  },
  {
   "cell_type": "code",
   "execution_count": 2,
   "metadata": {},
   "outputs": [
    {
     "name": "stdout",
     "output_type": "stream",
     "text": [
      "True\n"
     ]
    }
   ],
   "source": [
    "print(10>2)"
   ]
  },
  {
   "cell_type": "markdown",
   "metadata": {},
   "source": [
    "### Q4. Print the variables x,y,z having data types integer, stringand and boolean"
   ]
  },
  {
   "cell_type": "code",
   "execution_count": 8,
   "metadata": {},
   "outputs": [
    {
     "name": "stdout",
     "output_type": "stream",
     "text": [
      "2   hello   True\n"
     ]
    }
   ],
   "source": [
    "x=2\n",
    "y=\"hello\"\n",
    "z=True\n",
    "print(x,\" \",y,\" \",z)"
   ]
  },
  {
   "cell_type": "markdown",
   "metadata": {},
   "source": [
    "### Q5. Print 3 variables x,y,z using the assignment with multiple values."
   ]
  },
  {
   "cell_type": "code",
   "execution_count": 9,
   "metadata": {},
   "outputs": [
    {
     "name": "stdout",
     "output_type": "stream",
     "text": [
      "5   hello   True\n"
     ]
    }
   ],
   "source": [
    "x,y,z=5,\"hello\",True\n",
    "print(x,\" \",y,\" \",z)"
   ]
  },
  {
   "cell_type": "markdown",
   "metadata": {},
   "source": [
    "### Q6. Comment the Q1 and Q2 with respect of Questions."
   ]
  },
  {
   "cell_type": "code",
   "execution_count": 11,
   "metadata": {},
   "outputs": [],
   "source": [
    "# Q1. What is Python?\n",
    "# Q2. Give any 5 areas where python can be used."
   ]
  },
  {
   "cell_type": "markdown",
   "metadata": {},
   "source": [
    "### Q7. Print the data types of variables defined in Q4."
   ]
  },
  {
   "cell_type": "code",
   "execution_count": 14,
   "metadata": {},
   "outputs": [
    {
     "name": "stdout",
     "output_type": "stream",
     "text": [
      "x is <class 'int'>\n",
      "y is <class 'str'>\n",
      "z is <class 'bool'>\n"
     ]
    }
   ],
   "source": [
    "x=2\n",
    "y=\"hello\"\n",
    "z=True\n",
    "print(\"x is\",type(x))\n",
    "print(\"y is\",type(y))\n",
    "print(\"z is\",type(z))"
   ]
  },
  {
   "cell_type": "markdown",
   "metadata": {},
   "source": [
    "### Q8. Print the variables full filling the criteria a,b,c,d of variable name."
   ]
  },
  {
   "cell_type": "code",
   "execution_count": 16,
   "metadata": {},
   "outputs": [
    {
     "name": "stdout",
     "output_type": "stream",
     "text": [
      "5   2   1   4\n"
     ]
    }
   ],
   "source": [
    "abcd=5\n",
    "ABCD=2\n",
    "_aBc=1\n",
    "_ab4=4\n",
    "print(abcd,\" \",ABCD,\" \",_aBc,\" \",_ab4)"
   ]
  },
  {
   "cell_type": "markdown",
   "metadata": {},
   "source": [
    "### Q9. Write a Program tto print multiple values."
   ]
  },
  {
   "cell_type": "code",
   "execution_count": 19,
   "metadata": {},
   "outputs": [
    {
     "name": "stdout",
     "output_type": "stream",
     "text": [
      "hello 5 a\n"
     ]
    }
   ],
   "source": [
    "print(\"hello\"+\" \"+\"5\"+\" \"+\"a\")"
   ]
  },
  {
   "cell_type": "code",
   "execution_count": 23,
   "metadata": {},
   "outputs": [
    {
     "name": "stdout",
     "output_type": "stream",
     "text": [
      "<class 'str'>\n",
      "<class 'int'>\n",
      "<class 'float'>\n",
      "<class 'list'>\n",
      "<class 'tuple'>\n",
      "<class 'range'>\n",
      "<class 'dict'>\n",
      "<class 'bool'>\n",
      "<class 'list'>\n",
      "<class 'tuple'>\n",
      "<class 'dict'>\n",
      "<class 'bool'>\n"
     ]
    }
   ],
   "source": [
    "x=\"hello\"\n",
    "print(type(x))\n",
    "x=20\n",
    "print(type(x))\n",
    "x=20.5\n",
    "print(type(x))\n",
    "x=[\"a\",\"b\",\"c\"]\n",
    "print(type(x))\n",
    "x=(\"a\",\"b\",\"c\")\n",
    "print(type(x))\n",
    "x=range(6)\n",
    "print(type(x))\n",
    "x={1:\"apple\", 2:\"mango\"}\n",
    "print(type(x))\n",
    "x=True\n",
    "print(type(x))\n",
    "x=list((\"a\",\"b\",\"c\"))\n",
    "print(type(x))\n",
    "x=tuple((\"a\",\"b\",\"c\"))\n",
    "print(type(x))\n",
    "x=dict(key=\"1\",value=\"apple\")\n",
    "print(type(x))\n",
    "x=bool(5)\n",
    "print(type(x))"
   ]
  },
  {
   "cell_type": "markdown",
   "metadata": {},
   "source": [
    "### Q11. Print 3rd , 4th and 5th from last."
   ]
  },
  {
   "cell_type": "code",
   "execution_count": 26,
   "metadata": {},
   "outputs": [
    {
     "name": "stdout",
     "output_type": "stream",
     "text": [
      "l e h\n"
     ]
    }
   ],
   "source": [
    "x=\"hello\"\n",
    "print(x[2],x[1],x[0])"
   ]
  },
  {
   "cell_type": "markdown",
   "metadata": {},
   "source": [
    "### Q12. Print 3rd , 4th and 5th from start."
   ]
  },
  {
   "cell_type": "code",
   "execution_count": 27,
   "metadata": {
    "scrolled": true
   },
   "outputs": [
    {
     "name": "stdout",
     "output_type": "stream",
     "text": [
      "l l o\n"
     ]
    }
   ],
   "source": [
    "x=\"hello\"\n",
    "print(x[2],x[3],x[4])"
   ]
  }
 ],
 "metadata": {
  "kernelspec": {
   "display_name": "Python 3",
   "language": "python",
   "name": "python3"
  },
  "language_info": {
   "codemirror_mode": {
    "name": "ipython",
    "version": 3
   },
   "file_extension": ".py",
   "mimetype": "text/x-python",
   "name": "python",
   "nbconvert_exporter": "python",
   "pygments_lexer": "ipython3",
   "version": "3.8.5"
  }
 },
 "nbformat": 4,
 "nbformat_minor": 4
}
