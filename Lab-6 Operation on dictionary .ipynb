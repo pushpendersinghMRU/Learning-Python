{
 "cells": [
  {
   "cell_type": "markdown",
   "id": "11a21542",
   "metadata": {},
   "source": [
    "# Lab 6: Operation on dictionary "
   ]
  },
  {
   "cell_type": "markdown",
   "id": "07b5edcc",
   "metadata": {},
   "source": [
    "### Q. Create an empty dictionary"
   ]
  },
  {
   "cell_type": "code",
   "execution_count": 4,
   "id": "d969a26f",
   "metadata": {},
   "outputs": [
    {
     "name": "stdout",
     "output_type": "stream",
     "text": [
      "{}\n"
     ]
    }
   ],
   "source": [
    "dict1={}\n",
    "print(dict1)"
   ]
  },
  {
   "cell_type": "markdown",
   "id": "0a4a1bf9",
   "metadata": {},
   "source": [
    "### Q.\tCreate the following dictionary \n",
    "###       a. Key  value\n",
    "###       b. A      10\n",
    "###       c. B      20"
   ]
  },
  {
   "cell_type": "code",
   "execution_count": 9,
   "id": "c9023e55",
   "metadata": {},
   "outputs": [
    {
     "name": "stdout",
     "output_type": "stream",
     "text": [
      "{'Key': 'value', 'A': 10, 'B': 20}\n"
     ]
    }
   ],
   "source": [
    "dict1={\"Key\":\"value\",\"A\":10,\"B\":20}\n",
    "print(dict1)"
   ]
  },
  {
   "cell_type": "markdown",
   "id": "adf71764",
   "metadata": {},
   "source": [
    "### Q. Print all the items of a dictionary"
   ]
  },
  {
   "cell_type": "code",
   "execution_count": 10,
   "id": "45ba1361",
   "metadata": {},
   "outputs": [
    {
     "name": "stdout",
     "output_type": "stream",
     "text": [
      "dict_items([(1001, 'Shyam'), (1002, 'Arjun'), (1003, 'Ram')])\n"
     ]
    }
   ],
   "source": [
    "dict1={1001:\"Shyam\",1002:\"Arjun\",1003:\"Ram\"}\n",
    "print(dict1.items())"
   ]
  },
  {
   "cell_type": "markdown",
   "id": "9e084dee",
   "metadata": {},
   "source": [
    "### Q. Delete an element of a dictionary"
   ]
  },
  {
   "cell_type": "code",
   "execution_count": 12,
   "id": "5dc1e912",
   "metadata": {},
   "outputs": [
    {
     "name": "stdout",
     "output_type": "stream",
     "text": [
      "dict_items([(1002, 'Arjun'), (1003, 'Ram')])\n"
     ]
    }
   ],
   "source": [
    "dict1={1001:\"Shyam\",1002:\"Arjun\",1003:\"Ram\"}\n",
    "del dict1[1001]\n",
    "print(dict1.items())"
   ]
  },
  {
   "cell_type": "markdown",
   "id": "98da34f0",
   "metadata": {},
   "source": [
    "### Q. Delete full dictionary"
   ]
  },
  {
   "cell_type": "code",
   "execution_count": 19,
   "id": "34ed3380",
   "metadata": {},
   "outputs": [
    {
     "name": "stdout",
     "output_type": "stream",
     "text": [
      "{}\n"
     ]
    }
   ],
   "source": [
    "dict1={1001:\"Shyam\",1002:\"Arjun\",1003:\"Ram\"}\n",
    "dict1.clear()\n",
    "print(dict1)"
   ]
  },
  {
   "cell_type": "markdown",
   "id": "24f9dd71",
   "metadata": {},
   "source": [
    "### Q.To check if a key id present in a dictionary"
   ]
  },
  {
   "cell_type": "code",
   "execution_count": 35,
   "id": "e766aa9f",
   "metadata": {},
   "outputs": [
    {
     "name": "stdout",
     "output_type": "stream",
     "text": [
      "Enter key to check 1002\n",
      "Present,  value = Arjun\n"
     ]
    }
   ],
   "source": [
    "dict1={1001:\"Shyam\",1002:\"Arjun\",1003:\"Ram\"}\n",
    "key=int(input(\"Enter key to check \"))\n",
    "\n",
    "if key in dict1.keys():\n",
    "        print(\"Present, \", end =\" \")\n",
    "        print(\"value =\", dict1[key])\n",
    "else:\n",
    "        print(\"Not present\")"
   ]
  },
  {
   "cell_type": "markdown",
   "id": "91e73fea",
   "metadata": {},
   "source": [
    "### Q.Update a value of a key"
   ]
  },
  {
   "cell_type": "code",
   "execution_count": 36,
   "id": "deed2e19",
   "metadata": {},
   "outputs": [
    {
     "name": "stdout",
     "output_type": "stream",
     "text": [
      "Original Dictionary:\n",
      "{'A': 'Arjun', 'B': 'Shyam'}\n",
      "Dictionary after updation:\n",
      "{'A': 'Arjun', 'B': 'Ram'}\n"
     ]
    }
   ],
   "source": [
    "Dict1 = { 'A': 'Arjun', 'B': 'Shyam', }\n",
    "Dict2 = { 'B': 'Ram' }\n",
    "  \n",
    "print(\"Original Dictionary:\")\n",
    "print(Dict1)\n",
    "  \n",
    "Dict1.update(Dict2)\n",
    "print(\"Dictionary after updation:\")\n",
    "print(Dict1)"
   ]
  },
  {
   "cell_type": "markdown",
   "id": "07485479",
   "metadata": {},
   "source": [
    "### Q. Add a new key value pair"
   ]
  },
  {
   "cell_type": "code",
   "execution_count": 37,
   "id": "68de549e",
   "metadata": {},
   "outputs": [
    {
     "name": "stdout",
     "output_type": "stream",
     "text": [
      "{'India': 91, 'UK': 44, 'USA': 1, 'Spain': 34}\n",
      "{'India': 91, 'UK': 44, 'USA': 1, 'Spain': 34, 'Germany': 49}\n"
     ]
    }
   ],
   "source": [
    "dict2 = {\"India\": 91, \"UK\" : 44 , \"USA\" : 1, \"Spain\" : 34}\n",
    "print(dict2)\n",
    "\n",
    "dict2.update( {'Germany' : 49} )\n",
    "\n",
    "print(dict2)"
   ]
  },
  {
   "cell_type": "markdown",
   "id": "7043f5e9",
   "metadata": {},
   "source": [
    "### Q.Print dictionary for keys{1,10} and values as square of keys"
   ]
  },
  {
   "cell_type": "code",
   "execution_count": 43,
   "id": "14a4fe35",
   "metadata": {},
   "outputs": [
    {
     "name": "stdout",
     "output_type": "stream",
     "text": [
      "{1: 1, 2: 4, 3: 9, 4: 16, 5: 25, 6: 36, 7: 49, 8: 64, 9: 81, 10: 100}\n"
     ]
    }
   ],
   "source": [
    "dict1={}\n",
    "for key in range(1,11):\n",
    "    dict1[key]=key*key\n",
    "print(dict1)"
   ]
  },
  {
   "cell_type": "markdown",
   "id": "fd9eba0f",
   "metadata": {},
   "source": [
    "### Q.Print nested dictionary"
   ]
  },
  {
   "cell_type": "code",
   "execution_count": 44,
   "id": "c3c12677",
   "metadata": {},
   "outputs": [
    {
     "name": "stdout",
     "output_type": "stream",
     "text": [
      "{'A': 1, 1: 'ABC', 5: {'A': 16, 2: 'DEF'}, 'c': 17}\n"
     ]
    }
   ],
   "source": [
    "dict1={\"a\":1}\n",
    "dict2={1:\"abc\"}\n",
    "dict3={\"a\":16,2:\"def\"}\n",
    "dict4={\"c\":17}\n",
    "dict33={\"a\":1,1:\"abc\",5:{\"a\":16,2:\"def\"},\"c\":17}\n",
    "print(dict33)"
   ]
  },
  {
   "cell_type": "markdown",
   "id": "a420885a",
   "metadata": {},
   "source": [
    "### Q.Concatenate three dictionaries"
   ]
  },
  {
   "cell_type": "code",
   "execution_count": 47,
   "id": "cb4e9c23",
   "metadata": {},
   "outputs": [
    {
     "name": "stdout",
     "output_type": "stream",
     "text": [
      "{1: 10, 2: 20, 3: 30, 4: 40, 5: 50, 6: 60}\n"
     ]
    }
   ],
   "source": [
    "dic1={1:10, 2:20}\n",
    "dic2={3:30, 4:40}\n",
    "dic3={5:50,6:60}\n",
    "dic4 = {}\n",
    "for d in (dic1, dic2, dic3): dic4.update(d)\n",
    "print(dic4)"
   ]
  },
  {
   "cell_type": "markdown",
   "id": "e49747b7",
   "metadata": {},
   "source": [
    "### Q.Sum all the values of a dictionary"
   ]
  },
  {
   "cell_type": "code",
   "execution_count": 5,
   "id": "4c7ff4ad",
   "metadata": {},
   "outputs": [
    {
     "name": "stdout",
     "output_type": "stream",
     "text": [
      "3\n"
     ]
    }
   ],
   "source": [
    "dict1 = {\"a\":1,\"b\":-5,\"c\":7}\n",
    "print(sum(dict1.values()))"
   ]
  },
  {
   "cell_type": "markdown",
   "id": "beff41a6",
   "metadata": {},
   "source": [
    "### Q.Write a Python script to print a dictionary where the keys are numbers between 1 and 15 (both included) and the values are square of keys.\n",
    "### Sample Dictionary\n",
    "### {1: 1, 2: 4, 3: 9, 4: 16, 5: 25, 6: 36, 7: 49, 8: 64, 9: 81, 10: 100, 11: 121, 12: 144, 13: 169, 14: 196, 15: 225}\n"
   ]
  },
  {
   "cell_type": "code",
   "execution_count": 6,
   "id": "1ba50e69",
   "metadata": {},
   "outputs": [
    {
     "name": "stdout",
     "output_type": "stream",
     "text": [
      "{1: 1, 2: 4, 3: 9, 4: 16, 5: 25, 6: 36, 7: 49, 8: 64, 9: 81, 10: 100, 11: 121, 12: 144, 13: 169, 14: 196, 15: 225}\n"
     ]
    }
   ],
   "source": [
    "dict1={}\n",
    "for key in range(1,16):\n",
    "    dict1[key]=key*key\n",
    "print(dict1)"
   ]
  }
 ],
 "metadata": {
  "kernelspec": {
   "display_name": "Python 3",
   "language": "python",
   "name": "python3"
  },
  "language_info": {
   "codemirror_mode": {
    "name": "ipython",
    "version": 3
   },
   "file_extension": ".py",
   "mimetype": "text/x-python",
   "name": "python",
   "nbconvert_exporter": "python",
   "pygments_lexer": "ipython3",
   "version": "3.8.8"
  }
 },
 "nbformat": 4,
 "nbformat_minor": 5
}
