{
 "cells": [
  {
   "cell_type": "markdown",
   "id": "6c26a28c",
   "metadata": {},
   "source": [
    "# Lab-9: Class inheritance & Method overriding hands"
   ]
  },
  {
   "cell_type": "code",
   "execution_count": 1,
   "id": "69bea606",
   "metadata": {},
   "outputs": [
    {
     "name": "stdout",
     "output_type": "stream",
     "text": [
      "abc\n"
     ]
    }
   ],
   "source": [
    "class Person:\n",
    "    person_name=\"\"\n",
    "    employee_name=\"\"\n",
    "    def disp_person(self):\n",
    "        print(self.person_name)\n",
    "# do not forget to write in argument of child class\n",
    "class Employee:\n",
    "    def disp_employee(self):\n",
    "        print(self.employee_name)\n",
    "emp1=Employee()\n",
    "emp1.person_name=\"par\"\n",
    "emp1.employee_name=\"abc\"\n",
    "emp1.disp_employee()"
   ]
  },
  {
   "cell_type": "code",
   "execution_count": 2,
   "id": "c52353dc",
   "metadata": {},
   "outputs": [
    {
     "name": "stdout",
     "output_type": "stream",
     "text": [
      "post\n"
     ]
    }
   ],
   "source": [
    "# display variable of a class from object\n",
    "class A:\n",
    "    x=\"\"\n",
    "    def disp(self):\n",
    "        print(x)\n",
    "class B:\n",
    "    def prnt(self):\n",
    "        print(p)\n",
    "o=B()\n",
    "o.p=\"post\"\n",
    "print(o.p)\n"
   ]
  },
  {
   "cell_type": "code",
   "execution_count": 3,
   "id": "2ce2b7ab",
   "metadata": {},
   "outputs": [
    {
     "name": "stdout",
     "output_type": "stream",
     "text": [
      "person1\n"
     ]
    }
   ],
   "source": [
    "#multilevel inheritance\n",
    "\n",
    "class Person:\n",
    "    person_name=\"\"\n",
    "    employee_name=\"\"\n",
    "    teacher_name=\"\"\n",
    "    def disp_person(self):\n",
    "        print(self.person_name)\n",
    "# do not forget to write in argument of child class\n",
    "class Employee(Person):\n",
    "    def disp_employee(self):\n",
    "        print(self.employee_name)\n",
    "class Teacher(Employee):\n",
    "    def disp_teacher(self):\n",
    "        print(self.teacher_name)\n",
    "ob1=Teacher()\n",
    "ob1.person_name=\"person1\"\n",
    "ob1.employee_name=\"employee1\"\n",
    "ob1.teacher_name=\"teacher1\"\n",
    "ob1.disp_person()"
   ]
  },
  {
   "cell_type": "code",
   "execution_count": 4,
   "id": "3080825f",
   "metadata": {},
   "outputs": [
    {
     "name": "stdout",
     "output_type": "stream",
     "text": [
      "par\n"
     ]
    }
   ],
   "source": [
    "# hierarical inheritance\n",
    "class Person:\n",
    "    person_name=\"\"\n",
    "    member_name=\"\"\n",
    "    def disp_person(self):\n",
    "        print(self.person_name)\n",
    "# do not forget to write in argument of child class\n",
    "class Employee(Person):\n",
    "    def disp_member(self):\n",
    "        print(self.member_name)\n",
    "class Student(Person):\n",
    "    def disp_member(self):\n",
    "        print(self.member_name)\n",
    "emp1=Employee()\n",
    "emp1.person_name=\"par\"\n",
    "emp1.member_name=\"abc_emp\"\n",
    "emp1.disp_person()"
   ]
  },
  {
   "cell_type": "code",
   "execution_count": 5,
   "id": "db4b2382",
   "metadata": {},
   "outputs": [
    {
     "name": "stdout",
     "output_type": "stream",
     "text": [
      "par\n"
     ]
    }
   ],
   "source": [
    "\n",
    "stu1=Student()\n",
    "stu1.person_name=\"par\"\n",
    "stu1.member_name=\"def_stu\"\n",
    "stu1.disp_person()"
   ]
  },
  {
   "cell_type": "code",
   "execution_count": 6,
   "id": "d9c7ba8f",
   "metadata": {},
   "outputs": [
    {
     "name": "stdout",
     "output_type": "stream",
     "text": [
      "a b\n"
     ]
    }
   ],
   "source": [
    "# multiple level inheritance\n",
    "class A:\n",
    "    A_name=\"\"\n",
    "    def disp_A(self):\n",
    "        print(self.person_name)\n",
    "\n",
    "class B:\n",
    "    B_name:\"\"\n",
    "    def disp_B(self):\n",
    "        print(self.member_name)\n",
    "        \n",
    "class C(A,B):\n",
    "    def disp_C(self):\n",
    "        print(self.A_name, self.B_name)\n",
    "ob1=C()\n",
    "ob1.A_name=\"a\"\n",
    "ob1.B_name=\"b\"\n",
    "ob1.disp_C()"
   ]
  },
  {
   "cell_type": "code",
   "execution_count": 7,
   "id": "0e44c28d",
   "metadata": {},
   "outputs": [
    {
     "name": "stdout",
     "output_type": "stream",
     "text": [
      "24 xyz\n"
     ]
    }
   ],
   "source": [
    "class Base:\n",
    "    def __init__(self,name):\n",
    "        self.name=name\n",
    "\n",
    "class Derived(Base):\n",
    "    def __init__(self,name, roll_no):\n",
    "        Base.__init__(self,name)\n",
    "        self. roll_no=roll_no\n",
    "ob1=Derived(\"xyz\",24)\n",
    "print(ob1.roll_no, ob1.name)"
   ]
  },
  {
   "cell_type": "code",
   "execution_count": null,
   "id": "c17792b6",
   "metadata": {},
   "outputs": [],
   "source": []
  }
 ],
 "metadata": {
  "kernelspec": {
   "display_name": "Python 3",
   "language": "python",
   "name": "python3"
  },
  "language_info": {
   "codemirror_mode": {
    "name": "ipython",
    "version": 3
   },
   "file_extension": ".py",
   "mimetype": "text/x-python",
   "name": "python",
   "nbconvert_exporter": "python",
   "pygments_lexer": "ipython3",
   "version": "3.8.8"
  }
 },
 "nbformat": 4,
 "nbformat_minor": 5
}
