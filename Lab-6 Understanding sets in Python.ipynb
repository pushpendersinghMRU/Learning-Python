{
 "cells": [
  {
   "cell_type": "markdown",
   "id": "31a79346",
   "metadata": {},
   "source": [
    "# Lab 6: Understanding sets in Python"
   ]
  },
  {
   "cell_type": "markdown",
   "id": "c7c08bf3",
   "metadata": {},
   "source": [
    "### Q1. Write a program to create a set"
   ]
  },
  {
   "cell_type": "code",
   "execution_count": 1,
   "id": "94066ac9",
   "metadata": {},
   "outputs": [
    {
     "data": {
      "text/plain": [
       "{'a', 'b', 'c'}"
      ]
     },
     "execution_count": 1,
     "metadata": {},
     "output_type": "execute_result"
    }
   ],
   "source": [
    "set1={\"a\",\"b\",\"c\"}\n",
    "set1"
   ]
  },
  {
   "cell_type": "markdown",
   "id": "bbacb517",
   "metadata": {},
   "source": [
    "### Q2. Write a program to add an element to set"
   ]
  },
  {
   "cell_type": "code",
   "execution_count": 2,
   "id": "fdebcee8",
   "metadata": {},
   "outputs": [
    {
     "data": {
      "text/plain": [
       "{1, 'a', 'b', 'c'}"
      ]
     },
     "execution_count": 2,
     "metadata": {},
     "output_type": "execute_result"
    }
   ],
   "source": [
    "set1.add(1)\n",
    "set1"
   ]
  },
  {
   "cell_type": "markdown",
   "id": "203d1ae5",
   "metadata": {},
   "source": [
    "### Q3.\tWrite a program to add multiple items using update function"
   ]
  },
  {
   "cell_type": "code",
   "execution_count": 3,
   "id": "096e2e43",
   "metadata": {},
   "outputs": [
    {
     "data": {
      "text/plain": [
       "{'$', 1, 100, 'a', 'apple', 'b', 'c'}"
      ]
     },
     "execution_count": 3,
     "metadata": {},
     "output_type": "execute_result"
    }
   ],
   "source": [
    "set1.update([100,'a','$',\"apple\"])\n",
    "set1"
   ]
  },
  {
   "cell_type": "markdown",
   "id": "d14b8b5d",
   "metadata": {},
   "source": [
    "### Q4.\tWrite a program to find length of a set"
   ]
  },
  {
   "cell_type": "code",
   "execution_count": 4,
   "id": "a252d506",
   "metadata": {},
   "outputs": [
    {
     "data": {
      "text/plain": [
       "7"
      ]
     },
     "execution_count": 4,
     "metadata": {},
     "output_type": "execute_result"
    }
   ],
   "source": [
    "x=len(set1)\n",
    "x"
   ]
  },
  {
   "cell_type": "markdown",
   "id": "e5a9565a",
   "metadata": {},
   "source": [
    "### Q5.\tWrite a program to remove value from a set"
   ]
  },
  {
   "cell_type": "code",
   "execution_count": 5,
   "id": "6b017c26",
   "metadata": {},
   "outputs": [
    {
     "data": {
      "text/plain": [
       "{'$', 1, 'a', 'apple', 'b', 'c'}"
      ]
     },
     "execution_count": 5,
     "metadata": {},
     "output_type": "execute_result"
    }
   ],
   "source": [
    "set1.remove(100)\n",
    "set1"
   ]
  },
  {
   "cell_type": "markdown",
   "id": "a5d60219",
   "metadata": {},
   "source": [
    "### Q6.\tWrite a program to pop an element from a set"
   ]
  },
  {
   "cell_type": "code",
   "execution_count": 7,
   "id": "9ac3e9e8",
   "metadata": {},
   "outputs": [
    {
     "data": {
      "text/plain": [
       "1"
      ]
     },
     "execution_count": 7,
     "metadata": {},
     "output_type": "execute_result"
    }
   ],
   "source": [
    "p=set1.pop()\n",
    "p"
   ]
  },
  {
   "cell_type": "markdown",
   "id": "000b52b7",
   "metadata": {},
   "source": [
    "### Q7.\tWrite a program to update a set"
   ]
  },
  {
   "cell_type": "code",
   "execution_count": 8,
   "id": "6529425a",
   "metadata": {},
   "outputs": [
    {
     "data": {
      "text/plain": [
       "{1, 2, 3, 'a', 'b', 'c'}"
      ]
     },
     "execution_count": 8,
     "metadata": {},
     "output_type": "execute_result"
    }
   ],
   "source": [
    "set1 = {\"a\", \"b\" , \"c\"}\n",
    "set2 = {1, 2, 3}\n",
    "\n",
    "set1.update(set2)\n",
    "set1"
   ]
  },
  {
   "cell_type": "markdown",
   "id": "abedddc9",
   "metadata": {},
   "source": [
    "### Q8.\tWrite a Python program to create an intersection of sets."
   ]
  },
  {
   "cell_type": "code",
   "execution_count": 10,
   "id": "8c5ef185",
   "metadata": {},
   "outputs": [
    {
     "name": "stdout",
     "output_type": "stream",
     "text": [
      "{'orange'}\n"
     ]
    }
   ],
   "source": [
    "x = {\"orange\", \"banana\", \"cherry\"}\n",
    "y = {\"red\", \"yellow\", \"orange\"}\n",
    "\n",
    "z = x.intersection(y)\n",
    "print(z)"
   ]
  },
  {
   "cell_type": "markdown",
   "id": "afeaa057",
   "metadata": {},
   "source": [
    "### Q9.\tWrite a Python program to create a union of sets."
   ]
  },
  {
   "cell_type": "code",
   "execution_count": 11,
   "id": "e9cae0f4",
   "metadata": {},
   "outputs": [
    {
     "name": "stdout",
     "output_type": "stream",
     "text": [
      "{1, 2, 3, 'c', 'a', 'b'}\n"
     ]
    }
   ],
   "source": [
    "set2 = {1, 2, 3}\n",
    "\n",
    "set3 = set1.union(set2)\n",
    "print(set3)"
   ]
  },
  {
   "cell_type": "markdown",
   "id": "f01bc552",
   "metadata": {},
   "source": [
    "### Q10.\tWrite a Python program to clear a set."
   ]
  },
  {
   "cell_type": "code",
   "execution_count": 12,
   "id": "40503eea",
   "metadata": {},
   "outputs": [
    {
     "data": {
      "text/plain": [
       "set()"
      ]
     },
     "execution_count": 12,
     "metadata": {},
     "output_type": "execute_result"
    }
   ],
   "source": [
    "set1.clear()\n",
    "set1"
   ]
  },
  {
   "cell_type": "markdown",
   "id": "069400a8",
   "metadata": {},
   "source": [
    "### Q11.\tWrite a Python program to issubset."
   ]
  },
  {
   "cell_type": "code",
   "execution_count": 13,
   "id": "cbcd51a2",
   "metadata": {},
   "outputs": [
    {
     "name": "stdout",
     "output_type": "stream",
     "text": [
      "True\n"
     ]
    }
   ],
   "source": [
    "x = {\"a\", \"b\", \"c\"}\n",
    "y = {\"f\", \"e\", \"d\", \"c\", \"b\", \"a\"}\n",
    "\n",
    "z = x.issubset(y)\n",
    "print(z)"
   ]
  },
  {
   "cell_type": "markdown",
   "id": "02786bfa",
   "metadata": {},
   "source": [
    "### Q11.\tWrite a Python program to issuperset."
   ]
  },
  {
   "cell_type": "code",
   "execution_count": 14,
   "id": "9abd623c",
   "metadata": {},
   "outputs": [
    {
     "name": "stdout",
     "output_type": "stream",
     "text": [
      "True\n"
     ]
    }
   ],
   "source": [
    "x = {\"f\", \"e\", \"d\", \"c\", \"b\", \"a\"}\n",
    "y = {\"a\", \"b\", \"c\"}\n",
    "\n",
    "z = x.issuperset(y)\n",
    "print(z)"
   ]
  },
  {
   "cell_type": "markdown",
   "id": "0ea5dd1c",
   "metadata": {},
   "source": [
    "### Q12.\tWrite a Python program to create set difference."
   ]
  },
  {
   "cell_type": "code",
   "execution_count": 16,
   "id": "02e0035d",
   "metadata": {},
   "outputs": [
    {
     "name": "stdout",
     "output_type": "stream",
     "text": [
      "{'cherry', 'banana'}\n"
     ]
    }
   ],
   "source": [
    "x = {\"orange\", \"banana\", \"cherry\"}\n",
    "y = {\"red\", \"yellow\", \"orange\"}\n",
    "\n",
    "z = x.difference(y)\n",
    "print(z)"
   ]
  },
  {
   "cell_type": "markdown",
   "id": "6a5b932c",
   "metadata": {},
   "source": [
    "### Q13.\tWrite a Python program to create a symmetric difference."
   ]
  },
  {
   "cell_type": "code",
   "execution_count": 17,
   "id": "adb9ebf9",
   "metadata": {},
   "outputs": [
    {
     "name": "stdout",
     "output_type": "stream",
     "text": [
      "{'cherry', 'banana', 'red', 'yellow'}\n"
     ]
    }
   ],
   "source": [
    "x = {\"orange\", \"banana\", \"cherry\"}\n",
    "y = {\"red\", \"yellow\", \"orange\"}\n",
    "\n",
    "z = x.symmetric_difference(y)\n",
    "print(z)"
   ]
  }
 ],
 "metadata": {
  "kernelspec": {
   "display_name": "Python 3",
   "language": "python",
   "name": "python3"
  },
  "language_info": {
   "codemirror_mode": {
    "name": "ipython",
    "version": 3
   },
   "file_extension": ".py",
   "mimetype": "text/x-python",
   "name": "python",
   "nbconvert_exporter": "python",
   "pygments_lexer": "ipython3",
   "version": "3.8.8"
  }
 },
 "nbformat": 4,
 "nbformat_minor": 5
}
