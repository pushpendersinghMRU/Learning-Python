{
 "cells": [
  {
   "cell_type": "markdown",
   "id": "7707d1c9",
   "metadata": {},
   "source": [
    "# Lab 4: Operation on Tuples and List"
   ]
  },
  {
   "cell_type": "markdown",
   "id": "f7e0659e",
   "metadata": {},
   "source": [
    "### Q1. Write a Python program to create a tuple"
   ]
  },
  {
   "cell_type": "code",
   "execution_count": 2,
   "id": "0f99185b",
   "metadata": {},
   "outputs": [],
   "source": [
    "tup1=(\"a\",\"b\",\"c\")"
   ]
  },
  {
   "cell_type": "markdown",
   "id": "c1d1634b",
   "metadata": {},
   "source": [
    "### Q2 Write a Python program to create a tuple with different data types.  "
   ]
  },
  {
   "cell_type": "code",
   "execution_count": 16,
   "id": "474e7466",
   "metadata": {},
   "outputs": [
    {
     "data": {
      "text/plain": [
       "(1, 2, 'a', False)"
      ]
     },
     "execution_count": 16,
     "metadata": {},
     "output_type": "execute_result"
    }
   ],
   "source": [
    "tup=(1,2,\"a\",False)\n",
    "tup"
   ]
  },
  {
   "cell_type": "markdown",
   "id": "b5f1b761",
   "metadata": {},
   "source": [
    "### Q3:Write a Python program to create a tuple with numbers and print one item."
   ]
  },
  {
   "cell_type": "code",
   "execution_count": 7,
   "id": "f61d9762",
   "metadata": {},
   "outputs": [
    {
     "name": "stdout",
     "output_type": "stream",
     "text": [
      "20\n"
     ]
    }
   ],
   "source": [
    "tup2=(10,20,30)\n",
    "print(tup2[1])"
   ]
  },
  {
   "cell_type": "markdown",
   "id": "cd46a958",
   "metadata": {},
   "source": [
    "### Q4:Write a Python program to unpack a tuple in several variables.  "
   ]
  },
  {
   "cell_type": "code",
   "execution_count": 9,
   "id": "915a470b",
   "metadata": {},
   "outputs": [
    {
     "name": "stdout",
     "output_type": "stream",
     "text": [
      "10  20  30\n"
     ]
    }
   ],
   "source": [
    "var1=tup2[0]\n",
    "var2=tup2[1]\n",
    "var3=tup2[2]\n",
    "print(var1,\"\",var2,\"\",var3)"
   ]
  },
  {
   "cell_type": "markdown",
   "id": "baab4666",
   "metadata": {},
   "source": [
    "### Q5: Write a Python program to add an item in a tuple.  "
   ]
  },
  {
   "cell_type": "code",
   "execution_count": 17,
   "id": "2ff21c75",
   "metadata": {},
   "outputs": [
    {
     "name": "stdout",
     "output_type": "stream",
     "text": [
      "(10, 20, 30, 40)\n"
     ]
    }
   ],
   "source": [
    "list1=list(tup2)\n",
    "list1.append(40)\n",
    "tup5=tuple(list1)\n",
    "print (tup5)"
   ]
  },
  {
   "cell_type": "markdown",
   "id": "0089982c",
   "metadata": {},
   "source": [
    "### Q6:Write a Python program to convert a tuple to a string.  "
   ]
  },
  {
   "cell_type": "code",
   "execution_count": 19,
   "id": "a33d30f2",
   "metadata": {},
   "outputs": [
    {
     "data": {
      "text/plain": [
       "'hello world'"
      ]
     },
     "execution_count": 19,
     "metadata": {},
     "output_type": "execute_result"
    }
   ],
   "source": [
    "tup1=(\"h\",\"e\",\"l\",\"l\",\"o\",\" \",\"w\",\"o\",\"r\",\"l\",\"d\")\n",
    "str=''.join(tup1)\n",
    "str\n"
   ]
  },
  {
   "cell_type": "markdown",
   "id": "ea4d6d07",
   "metadata": {},
   "source": [
    "### Q7:Write a Python program to get the 4th element and 4th element from last of a tuple"
   ]
  },
  {
   "cell_type": "code",
   "execution_count": 15,
   "id": "ffd16c50",
   "metadata": {},
   "outputs": [
    {
     "name": "stdout",
     "output_type": "stream",
     "text": [
      "4\n",
      "7\n"
     ]
    }
   ],
   "source": [
    "tup1=(1,2,3,4,5,6,7,8,9,10)\n",
    "print(tup1[3])\n",
    "print(tup1[-4])"
   ]
  },
  {
   "cell_type": "markdown",
   "id": "baef3ce1",
   "metadata": {},
   "source": [
    "### Q8. Write a Python program to find the repeated items of a tuple.  "
   ]
  },
  {
   "cell_type": "code",
   "execution_count": 21,
   "id": "b0624184",
   "metadata": {},
   "outputs": [
    {
     "name": "stdout",
     "output_type": "stream",
     "text": [
      "3\n"
     ]
    }
   ],
   "source": [
    "tup1=(1,1,3,4,5,1,7,8,9,10)\n",
    "count=tup1.count(1)\n",
    "print(count)"
   ]
  },
  {
   "cell_type": "markdown",
   "id": "1e579d1b",
   "metadata": {},
   "source": [
    "### Q9. Write a Python program to check whether an element exists within a tuple.  "
   ]
  },
  {
   "cell_type": "code",
   "execution_count": 23,
   "id": "9617e444",
   "metadata": {},
   "outputs": [
    {
     "name": "stdout",
     "output_type": "stream",
     "text": [
      "true\n"
     ]
    }
   ],
   "source": [
    "if 4 in tup1:\n",
    "    print(\"true\")\n",
    "else :\n",
    "    print(\"false\")"
   ]
  },
  {
   "cell_type": "markdown",
   "id": "4042f08f",
   "metadata": {},
   "source": [
    "### Q10. Write a Python program to convert a list to a tuple.  "
   ]
  },
  {
   "cell_type": "code",
   "execution_count": 25,
   "id": "fde0c797",
   "metadata": {},
   "outputs": [
    {
     "name": "stdout",
     "output_type": "stream",
     "text": [
      "(1, 2, 3, 4)\n"
     ]
    }
   ],
   "source": [
    "list1=[1,2,3,4]\n",
    "tuple1=tuple(list1)\n",
    "print(tuple1)"
   ]
  },
  {
   "cell_type": "markdown",
   "id": "28d4f913",
   "metadata": {},
   "source": [
    "### Q11. Write a Python program to remove an item from a tuple"
   ]
  },
  {
   "cell_type": "code",
   "execution_count": 27,
   "id": "87da2487",
   "metadata": {},
   "outputs": [
    {
     "name": "stdout",
     "output_type": "stream",
     "text": [
      "(1, 2, 3)\n"
     ]
    }
   ],
   "source": [
    "tuple1=(1,2,3,4)\n",
    "list1=list(tuple1)\n",
    "list1.remove(4)\n",
    "tup1=tuple(list1)\n",
    "print(tup1)"
   ]
  },
  {
   "cell_type": "markdown",
   "id": "81aa7614",
   "metadata": {},
   "source": [
    "### Q12. Write a Python program to slice a tuple "
   ]
  },
  {
   "cell_type": "code",
   "execution_count": 29,
   "id": "1a345254",
   "metadata": {},
   "outputs": [
    {
     "name": "stdout",
     "output_type": "stream",
     "text": [
      "(1, 2, 4)\n"
     ]
    }
   ],
   "source": [
    "tuple1=(1,2,3,4)\n",
    "new_tup=tuple1[0:2]+tuple1[3:]\n",
    "print(new_tup)"
   ]
  },
  {
   "cell_type": "markdown",
   "id": "efffe6b3",
   "metadata": {},
   "source": [
    "### Q13. Write a Python program to find the index of an item of a tuple.  "
   ]
  },
  {
   "cell_type": "code",
   "execution_count": 32,
   "id": "c0791acd",
   "metadata": {},
   "outputs": [
    {
     "name": "stdout",
     "output_type": "stream",
     "text": [
      "3\n"
     ]
    }
   ],
   "source": [
    "tup1=(1,2,3,4,5,6)\n",
    "print(tup1.index(4))"
   ]
  },
  {
   "cell_type": "markdown",
   "id": "f2645530",
   "metadata": {},
   "source": [
    "### Q14. Write a Python program to find the length of a tuple.  "
   ]
  },
  {
   "cell_type": "code",
   "execution_count": 34,
   "id": "4bc6820d",
   "metadata": {},
   "outputs": [
    {
     "name": "stdout",
     "output_type": "stream",
     "text": [
      "6\n"
     ]
    }
   ],
   "source": [
    "tup1=(1,2,3,4,5,6)\n",
    "print(len(tup1))"
   ]
  },
  {
   "cell_type": "markdown",
   "id": "087fd0d7",
   "metadata": {},
   "source": [
    "### Q15. Write a Python program to reverse a tuple. "
   ]
  },
  {
   "cell_type": "code",
   "execution_count": 36,
   "id": "243aa5c4",
   "metadata": {},
   "outputs": [
    {
     "name": "stdout",
     "output_type": "stream",
     "text": [
      "(6, 5, 4, 3, 2, 1)\n"
     ]
    }
   ],
   "source": [
    "tup1=(1,2,3,4,5,6)\n",
    "tup2=reversed(tup1)\n",
    "print(tuple(tup2))"
   ]
  },
  {
   "cell_type": "code",
   "execution_count": null,
   "id": "3786d2b8",
   "metadata": {},
   "outputs": [],
   "source": []
  }
 ],
 "metadata": {
  "kernelspec": {
   "display_name": "Python 3",
   "language": "python",
   "name": "python3"
  },
  "language_info": {
   "codemirror_mode": {
    "name": "ipython",
    "version": 3
   },
   "file_extension": ".py",
   "mimetype": "text/x-python",
   "name": "python",
   "nbconvert_exporter": "python",
   "pygments_lexer": "ipython3",
   "version": "3.8.8"
  }
 },
 "nbformat": 4,
 "nbformat_minor": 5
}
