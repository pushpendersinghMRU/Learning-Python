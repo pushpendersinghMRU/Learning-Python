{
 "cells": [
  {
   "cell_type": "markdown",
   "id": "583c32b3",
   "metadata": {},
   "source": [
    "# Lab-3: Strings and list"
   ]
  },
  {
   "cell_type": "markdown",
   "id": "c6f51fca",
   "metadata": {},
   "source": [
    "### Q5.\tWrite a Python program to calculate the length of a string. "
   ]
  },
  {
   "cell_type": "code",
   "execution_count": 1,
   "id": "af655b9d",
   "metadata": {},
   "outputs": [
    {
     "name": "stdout",
     "output_type": "stream",
     "text": [
      "enter the string\n",
      "hello world\n",
      "11  is the length of the string\n"
     ]
    }
   ],
   "source": [
    "print(\"enter the string\")\n",
    "str1=input()\n",
    "count=0\n",
    "for i in str1:\n",
    "    count=count+1\n",
    "print (count,\" is the length of the string\")"
   ]
  },
  {
   "cell_type": "markdown",
   "id": "661027fb",
   "metadata": {},
   "source": [
    "### Q6. Write a Python program to count the number of characters (character frequency) in a string"
   ]
  },
  {
   "cell_type": "code",
   "execution_count": 6,
   "id": "374c8b40",
   "metadata": {},
   "outputs": [
    {
     "name": "stdout",
     "output_type": "stream",
     "text": [
      "enter the string\n",
      "hello world\n",
      "11  characters are present in the string\n"
     ]
    }
   ],
   "source": [
    "print(\"enter the string\")\n",
    "str1=input()\n",
    "count=0\n",
    "for i in str1:\n",
    "    if i:\n",
    "        count=count+1\n",
    "print (count, \" characters are present in the string\")"
   ]
  },
  {
   "cell_type": "markdown",
   "id": "3892ae69",
   "metadata": {},
   "source": [
    "### Q7.\tWrite a Python program to get a string made of the first 2 and the last 2 chars from a given a string. If the string length is less than 2, return instead of the empty string."
   ]
  },
  {
   "cell_type": "code",
   "execution_count": 10,
   "id": "3d1c97f0",
   "metadata": {},
   "outputs": [
    {
     "name": "stdout",
     "output_type": "stream",
     "text": [
      "enter the string\n",
      "hello\n",
      "the new string is helo\n"
     ]
    }
   ],
   "source": [
    "print(\"enter the string\")\n",
    "str1=input()\n",
    "def make_string(str1):\n",
    "    if len(str1)<=2:\n",
    "        return ''\n",
    "    else:\n",
    "        print(\"the new string is\",str1[0:2]+str1[-2:])\n",
    "make_string(str1)"
   ]
  },
  {
   "cell_type": "markdown",
   "id": "256a071d",
   "metadata": {},
   "source": [
    "### Q8.\tWrite a Python program to get a string from a given string where all occurrences of its first char have been changed to '$', except the first char itself"
   ]
  },
  {
   "cell_type": "code",
   "execution_count": 12,
   "id": "c4686e47",
   "metadata": {},
   "outputs": [
    {
     "name": "stdout",
     "output_type": "stream",
     "text": [
      "enter a string\n",
      "she sells sea shells on sea shore\n",
      " the new string is  she $ell$ $ea $hell$ on $ea $hore\n"
     ]
    }
   ],
   "source": [
    "print(\"enter a string\")\n",
    "str1=input()\n",
    "char1=str1[0]\n",
    "new_str=str1.replace(char1,\"$\")\n",
    "print (\" the new string is \",char1+new_str[1:])"
   ]
  },
  {
   "cell_type": "markdown",
   "id": "5f716514",
   "metadata": {},
   "source": [
    "### Q9. Write a Python program to get a single string from two given strings, separated by a space and swap the first two characters of each string. "
   ]
  },
  {
   "cell_type": "code",
   "execution_count": 14,
   "id": "a15b259b",
   "metadata": {},
   "outputs": [
    {
     "name": "stdout",
     "output_type": "stream",
     "text": [
      "enter string 1\n",
      "hello \n",
      "enter second string\n",
      "world\n",
      "the new string is  ldllo   o rld\n"
     ]
    }
   ],
   "source": [
    "print( \"enter string 1\")\n",
    "str1=input()\n",
    "print(\"enter second string\")\n",
    "str2=input()\n",
    "print(\"the new string is \",str2[-2:]+str1[2:],\"\",str1[-2:]+str2[2:])"
   ]
  },
  {
   "cell_type": "markdown",
   "id": "2cc9b366",
   "metadata": {},
   "source": [
    "### Q10. Write a Python program to add 'ing' at the end of a given string (length should be at least 3). If the given string already ends with 'ing' then add 'ly' instead. If the string length of the given string is less than 3, leave it unchanged"
   ]
  },
  {
   "cell_type": "code",
   "execution_count": 1,
   "id": "9847b899",
   "metadata": {},
   "outputs": [
    {
     "name": "stdout",
     "output_type": "stream",
     "text": [
      "enter a string\n",
      "increasing\n",
      "10\n",
      "new string is increasingly\n"
     ]
    }
   ],
   "source": [
    "print(\"enter a string\")\n",
    "str1=input()\n",
    "print(len(str1))\n",
    "def make_new_string(str1):\n",
    "    if len(str1)>2:\n",
    "        if str1[-3:]=='ing':\n",
    "            str1=str1+'ly'\n",
    "            print(\"new string is \"+str1)\n",
    "        else:\n",
    "            str1=str1+'ing'\n",
    "            print(\"new string is \"+str1)\n",
    "    else:\n",
    "        print(\"the string remains unchanged \", str1)\n",
    "make_new_string(str1)\n"
   ]
  },
  {
   "cell_type": "code",
   "execution_count": null,
   "id": "5d31a797",
   "metadata": {},
   "outputs": [],
   "source": []
  }
 ],
 "metadata": {
  "kernelspec": {
   "display_name": "Python 3",
   "language": "python",
   "name": "python3"
  },
  "language_info": {
   "codemirror_mode": {
    "name": "ipython",
    "version": 3
   },
   "file_extension": ".py",
   "mimetype": "text/x-python",
   "name": "python",
   "nbconvert_exporter": "python",
   "pygments_lexer": "ipython3",
   "version": "3.8.8"
  }
 },
 "nbformat": 4,
 "nbformat_minor": 5
}
