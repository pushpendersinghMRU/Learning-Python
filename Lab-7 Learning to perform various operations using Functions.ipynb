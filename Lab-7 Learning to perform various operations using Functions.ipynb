{
 "cells": [
  {
   "cell_type": "markdown",
   "id": "c868d5e3",
   "metadata": {},
   "source": [
    "# Lab 7 Learning to perform various operations using Functions"
   ]
  },
  {
   "cell_type": "markdown",
   "id": "26b382f7",
   "metadata": {},
   "source": [
    "### Q1.\tWrite a program to multiply two numbers using functions."
   ]
  },
  {
   "cell_type": "code",
   "execution_count": 2,
   "id": "46163bf9",
   "metadata": {},
   "outputs": [
    {
     "name": "stdout",
     "output_type": "stream",
     "text": [
      "num1 5\n",
      "num2 5\n",
      "25\n"
     ]
    }
   ],
   "source": [
    "def mul(a,b):\n",
    "    c=a*b\n",
    "    return(c)\n",
    "\n",
    "a=int(input(\"num1 \"))\n",
    "b=int(input(\"num2 \"))\n",
    "c=mul(a,b)\n",
    "print (c)"
   ]
  },
  {
   "cell_type": "markdown",
   "id": "bd011db8",
   "metadata": {},
   "source": [
    "### Q2.\tWrite a program to add two numbers using functions."
   ]
  },
  {
   "cell_type": "code",
   "execution_count": 4,
   "id": "95c2cba2",
   "metadata": {},
   "outputs": [
    {
     "name": "stdout",
     "output_type": "stream",
     "text": [
      "num1 5\n",
      "num2 5\n",
      "10\n"
     ]
    }
   ],
   "source": [
    "def add(a,b):\n",
    "    c=a+b\n",
    "    return(c)\n",
    "\n",
    "a=int(input(\"num1 \"))\n",
    "b=int(input(\"num2 \"))\n",
    "c=add(a,b)\n",
    "print (c)"
   ]
  },
  {
   "cell_type": "markdown",
   "id": "0f0abf14",
   "metadata": {},
   "source": [
    "### Q3.\tCalculate factorial of a number using function."
   ]
  },
  {
   "cell_type": "code",
   "execution_count": 6,
   "id": "e3cf60ad",
   "metadata": {},
   "outputs": [
    {
     "name": "stdout",
     "output_type": "stream",
     "text": [
      "Enter a number for its factorial 3\n",
      "Factorial is  6\n"
     ]
    }
   ],
   "source": [
    "def fact(n):\n",
    "    fact=1;\n",
    "    for i in range(n,0,-1):\n",
    "        fact=fact*i\n",
    "    return (fact)\n",
    "a=int(input(\"Enter a number for its factorial \"))\n",
    "b=fact(a)\n",
    "print(\"Factorial is \",b)"
   ]
  },
  {
   "cell_type": "markdown",
   "id": "13bba98e",
   "metadata": {},
   "source": [
    "### Q4.\tCreate sequence of Fibonacci using function."
   ]
  },
  {
   "cell_type": "code",
   "execution_count": 7,
   "id": "76365e9a",
   "metadata": {},
   "outputs": [
    {
     "name": "stdout",
     "output_type": "stream",
     "text": [
      "4\n",
      "1 1 2 3 5 8 "
     ]
    }
   ],
   "source": [
    "def fibonacci(n):\n",
    "    k=1\n",
    "    a=1\n",
    "    b=1\n",
    "    print(a, end=\" \")\n",
    "    print(b, end=\" \")\n",
    "    while(k<=n):\n",
    "        if n==1:\n",
    "            return(0)\n",
    "        elif n==2:\n",
    "            return(1)\n",
    "        else:\n",
    "            c=a+b\n",
    "            print(c,end=\" \")\n",
    "            a=b\n",
    "            b=c\n",
    "            k=k+1\n",
    "            \n",
    "a=int(input())\n",
    "fibonacci(a)"
   ]
  },
  {
   "cell_type": "markdown",
   "id": "985ab78c",
   "metadata": {},
   "source": [
    "### Q5.\tWrite a program to swapping of two numbers using functions."
   ]
  },
  {
   "cell_type": "code",
   "execution_count": 10,
   "id": "2ab01579",
   "metadata": {},
   "outputs": [
    {
     "name": "stdout",
     "output_type": "stream",
     "text": [
      "Enter a number 3\n",
      "Enter a number 5\n",
      "After swapping  (5, 3)\n"
     ]
    }
   ],
   "source": [
    "a=int(input(\"Enter a number \"))\n",
    "b=int(input(\"Enter a number \"))\n",
    "def swap(m,n):\n",
    "    temp=m\n",
    "    m=n\n",
    "    n=temp\n",
    "    return(m,n)\n",
    "result=swap(a,b)\n",
    "print(\"After swapping \",result)"
   ]
  },
  {
   "cell_type": "markdown",
   "id": "7118236d",
   "metadata": {},
   "source": [
    "### Q6.\tWrite a function to find the HCF of some given numbers."
   ]
  },
  {
   "cell_type": "code",
   "execution_count": 12,
   "id": "3578b863",
   "metadata": {},
   "outputs": [
    {
     "name": "stdout",
     "output_type": "stream",
     "text": [
      " Please Enter the First Number : 24\n",
      " Please Enter the Second Number : 32\n",
      "The H.C.F. is 8\n"
     ]
    }
   ],
   "source": [
    "def compute_hcf(x, y):\n",
    "    if x > y:\n",
    "        smaller = y\n",
    "    else:\n",
    "        smaller = x\n",
    "    for i in range(1, smaller+1):\n",
    "        if((x % i == 0) and (y % i == 0)):\n",
    "            hcf = i \n",
    "    return hcf\n",
    "\n",
    "num1 = int(input(\" Please Enter the First Number : \")) \n",
    "num2 = int(input(\" Please Enter the Second Number : \"))\n",
    "\n",
    "print(\"The H.C.F. is\", compute_hcf(num1, num2))"
   ]
  },
  {
   "cell_type": "markdown",
   "id": "f8ffeaa8",
   "metadata": {},
   "source": [
    "### Q7.\tWrite a function to find the ASCII value of the character."
   ]
  },
  {
   "cell_type": "code",
   "execution_count": 13,
   "id": "8f18712d",
   "metadata": {},
   "outputs": [
    {
     "name": "stdout",
     "output_type": "stream",
     "text": [
      " Please Enter the Alphabet : p\n",
      "The ASCII value of 'p' is 112\n"
     ]
    }
   ],
   "source": [
    "c = (input(\" Please Enter the Alphabet : \")) \n",
    "print(\"The ASCII value of '\" + c + \"' is\", ord(c))"
   ]
  },
  {
   "cell_type": "markdown",
   "id": "799189aa",
   "metadata": {},
   "source": [
    "### Q8.\tWrite a program that demonstrates the (built in function) mathematical functions."
   ]
  },
  {
   "cell_type": "code",
   "execution_count": 14,
   "id": "b0fa03e7",
   "metadata": {},
   "outputs": [
    {
     "data": {
      "text/plain": [
       "7"
      ]
     },
     "execution_count": 14,
     "metadata": {},
     "output_type": "execute_result"
    }
   ],
   "source": [
    "# Demonstrating absolute value function for any number\n",
    "abs(-7)"
   ]
  },
  {
   "cell_type": "markdown",
   "id": "8564c434",
   "metadata": {},
   "source": [
    "### Q9.\tWrite a program that demonstrates the (built in function) Date & Time functions."
   ]
  },
  {
   "cell_type": "code",
   "execution_count": 18,
   "id": "22be7155",
   "metadata": {},
   "outputs": [
    {
     "name": "stdout",
     "output_type": "stream",
     "text": [
      "Present date is : 2021-07-13\n"
     ]
    }
   ],
   "source": [
    "import datetime \n",
    "from datetime import date \n",
    "print (\"Present date is : \",end=\"\") \n",
    "print (date.today())"
   ]
  },
  {
   "cell_type": "markdown",
   "id": "4e64e7f1",
   "metadata": {},
   "source": [
    "### Q10.\tWrite a program that demonstrates Required arguments."
   ]
  },
  {
   "cell_type": "code",
   "execution_count": 19,
   "id": "421131f3",
   "metadata": {},
   "outputs": [
    {
     "name": "stdout",
     "output_type": "stream",
     "text": [
      "calling function 1st time\n",
      "calling function 2nd time\n"
     ]
    }
   ],
   "source": [
    "def printme( str ):\n",
    "   \"This prints a passed string into this function\"\n",
    "   print (str)\n",
    "   return;\n",
    "\n",
    "# Now you can call printme function\n",
    "printme(\"calling function 1st time\")\n",
    "printme(\"calling function 2nd time\")"
   ]
  },
  {
   "cell_type": "markdown",
   "id": "94b6ecba",
   "metadata": {},
   "source": [
    "### Q11.\tWrite a program that demonstrates keyword arguments."
   ]
  },
  {
   "cell_type": "code",
   "execution_count": 20,
   "id": "770a175e",
   "metadata": {},
   "outputs": [
    {
     "name": "stdout",
     "output_type": "stream",
     "text": [
      "student1 stdent1_ln\n",
      "Student1 student2_ln\n"
     ]
    }
   ],
   "source": [
    "def student(firstname, lastname):  \n",
    "     print(firstname, lastname)  \n",
    "    \n",
    "    \n",
    "# Keyword arguments                   \n",
    "student(firstname ='student1', lastname ='stdent1_ln')     \n",
    "student(lastname ='student2_ln', firstname ='Student1')"
   ]
  },
  {
   "cell_type": "markdown",
   "id": "1cc52167",
   "metadata": {},
   "source": [
    "### Q12.\tWrite a program that demonstrates Default arguments."
   ]
  },
  {
   "cell_type": "code",
   "execution_count": 22,
   "id": "cd7e5880",
   "metadata": {},
   "outputs": [
    {
     "name": "stdout",
     "output_type": "stream",
     "text": [
      "x:  100\n",
      "y:  500\n"
     ]
    }
   ],
   "source": [
    "def abcd(x, y=500): \n",
    "    print(\"x: \", x) \n",
    "    print(\"y: \", y) \n",
    "  \n",
    "abcd(100)"
   ]
  },
  {
   "cell_type": "markdown",
   "id": "41b99476",
   "metadata": {},
   "source": [
    "### Q13.\tWrite a program that demonstrates Variable –length arguments."
   ]
  },
  {
   "cell_type": "code",
   "execution_count": 23,
   "id": "68a9a38f",
   "metadata": {},
   "outputs": [
    {
     "name": "stdout",
     "output_type": "stream",
     "text": [
      "lab\n",
      "exercise\n",
      "for\n",
      "python\n"
     ]
    }
   ],
   "source": [
    "def abcd(*argv):  \n",
    "    for arg in argv:  \n",
    "        print (arg) \n",
    "    \n",
    "abcd('lab', 'exercise', 'for', 'python')"
   ]
  },
  {
   "cell_type": "code",
   "execution_count": null,
   "id": "caa3a6c6",
   "metadata": {},
   "outputs": [],
   "source": []
  }
 ],
 "metadata": {
  "kernelspec": {
   "display_name": "Python 3",
   "language": "python",
   "name": "python3"
  },
  "language_info": {
   "codemirror_mode": {
    "name": "ipython",
    "version": 3
   },
   "file_extension": ".py",
   "mimetype": "text/x-python",
   "name": "python",
   "nbconvert_exporter": "python",
   "pygments_lexer": "ipython3",
   "version": "3.8.8"
  }
 },
 "nbformat": 4,
 "nbformat_minor": 5
}
